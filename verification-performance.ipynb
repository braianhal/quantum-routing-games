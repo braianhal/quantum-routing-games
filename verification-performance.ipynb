{
 "cells": [
  {
   "cell_type": "markdown",
   "id": "c54656a7-2011-4586-abea-03642e72b2d8",
   "metadata": {},
   "source": [
    "## Verificación de performance.\n",
    "Verifica el número máximo de qubits que pueden simularse rápidamente para un juego de 100 rondas."
   ]
  },
  {
   "cell_type": "markdown",
   "id": "eb61ff1f-7fb9-4822-968e-4d085238566c",
   "metadata": {},
   "source": [
    "Imports."
   ]
  },
  {
   "cell_type": "code",
   "execution_count": 1,
   "id": "9567172d-742b-4d1d-b5c8-7f88c65c4d24",
   "metadata": {},
   "outputs": [],
   "source": [
    "import src.game_builder as gb\n",
    "\n",
    "import utils.chart as chart\n",
    "import utils.metric as mu\n",
    "import utils.tests as test\n",
    "\n",
    "import matplotlib.pyplot as plt\n",
    "import numpy as np\n",
    "import random\n",
    "import time"
   ]
  },
  {
   "cell_type": "markdown",
   "id": "4601f0cb-bfb5-4dfa-81c1-5e55d2cb7900",
   "metadata": {},
   "source": [
    "Configuración de semilla."
   ]
  },
  {
   "cell_type": "code",
   "execution_count": 2,
   "id": "c44fbc79-a78a-415e-8dd8-d19dd8cf0523",
   "metadata": {},
   "outputs": [],
   "source": [
    "RANDOM_SEED = 434\n",
    "np.random.seed(RANDOM_SEED)\n",
    "random.seed(RANDOM_SEED)"
   ]
  },
  {
   "cell_type": "markdown",
   "id": "ae5d5e72-5344-4140-a070-db4cd901099c",
   "metadata": {},
   "source": [
    "Configuración de experimentos."
   ]
  },
  {
   "cell_type": "code",
   "execution_count": 3,
   "id": "cafa4c83-5d20-4f81-9851-f9627b2792b4",
   "metadata": {},
   "outputs": [],
   "source": [
    "rounds = 100\n",
    "test_cases = [test.get_specific_test_case(n, 2) for n in range(2,20)]"
   ]
  },
  {
   "cell_type": "code",
   "execution_count": 4,
   "id": "6f2edf49-a6c3-4cf2-98f9-9313cb12e077",
   "metadata": {},
   "outputs": [],
   "source": [
    "def run_performance_test(protocol):\n",
    "    for N, n, m, opt in test_cases:\n",
    "        start_time = time.time()\n",
    "        gb.game(N, n, rounds, protocol).play()\n",
    "        end_time = time.time() - start_time\n",
    "        print(n, \" qubits: \", end_time)"
   ]
  },
  {
   "cell_type": "markdown",
   "id": "939f15b8-ea50-42bb-bf09-3288b5e05667",
   "metadata": {},
   "source": [
    "Ejecución de experimentos para MWP."
   ]
  },
  {
   "cell_type": "code",
   "execution_count": 5,
   "id": "60b957be-67b6-45bc-8750-b6336367dc09",
   "metadata": {},
   "outputs": [
    {
     "name": "stdout",
     "output_type": "stream",
     "text": [
      "2  qubits:  0.2798600196838379\n",
      "3  qubits:  0.3314321041107178\n",
      "4  qubits:  0.37628984451293945\n",
      "5  qubits:  0.44834399223327637\n",
      "6  qubits:  0.4907341003417969\n",
      "7  qubits:  0.5453009605407715\n",
      "8  qubits:  0.5819041728973389\n",
      "9  qubits:  0.6656382083892822\n",
      "10  qubits:  0.7161169052124023\n",
      "11  qubits:  0.8197860717773438\n",
      "12  qubits:  0.9521279335021973\n",
      "13  qubits:  1.0355441570281982\n",
      "14  qubits:  1.2466108798980713\n",
      "15  qubits:  1.6357629299163818\n",
      "16  qubits:  2.337838888168335\n",
      "17  qubits:  4.109843969345093\n",
      "18  qubits:  13.014445781707764\n",
      "19  qubits:  29.305187225341797\n"
     ]
    }
   ],
   "source": [
    "run_performance_test(gb.mwp())"
   ]
  },
  {
   "cell_type": "markdown",
   "id": "b1fc51b8-c3aa-48d5-bb4b-eff86695d8e2",
   "metadata": {},
   "source": [
    "Ejecución de experimentos para EWL."
   ]
  },
  {
   "cell_type": "code",
   "execution_count": 6,
   "id": "1a2390f9-4116-4493-adf0-30282fc63d3b",
   "metadata": {},
   "outputs": [
    {
     "name": "stdout",
     "output_type": "stream",
     "text": [
      "2  qubits:  0.3992137908935547\n",
      "3  qubits:  0.5379488468170166\n",
      "4  qubits:  0.6351168155670166\n",
      "5  qubits:  0.7366302013397217\n",
      "6  qubits:  0.8859899044036865\n",
      "7  qubits:  0.9656128883361816\n",
      "8  qubits:  1.093761920928955\n",
      "9  qubits:  1.2385272979736328\n",
      "10  qubits:  1.42466402053833\n",
      "11  qubits:  1.8021509647369385\n",
      "12  qubits:  2.1086840629577637\n",
      "13  qubits:  2.28475284576416\n",
      "14  qubits:  3.4207658767700195\n",
      "15  qubits:  4.250790119171143\n",
      "16  qubits:  6.098007678985596\n",
      "17  qubits:  11.155768156051636\n",
      "18  qubits:  32.8724410533905\n",
      "19  qubits:  69.56483888626099\n"
     ]
    }
   ],
   "source": [
    "run_performance_test(gb.ewl())"
   ]
  }
 ],
 "metadata": {
  "kernelspec": {
   "display_name": "quantum",
   "language": "python",
   "name": "quantum"
  },
  "language_info": {
   "codemirror_mode": {
    "name": "ipython",
    "version": 3
   },
   "file_extension": ".py",
   "mimetype": "text/x-python",
   "name": "python",
   "nbconvert_exporter": "python",
   "pygments_lexer": "ipython3",
   "version": "3.13.5"
  }
 },
 "nbformat": 4,
 "nbformat_minor": 5
}
